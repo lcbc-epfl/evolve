{
 "cells": [
  {
   "cell_type": "code",
   "execution_count": 65,
   "metadata": {
    "collapsed": false
   },
   "outputs": [
    {
     "name": "stdout",
     "output_type": "stream",
     "text": [
      "[u'seaborn-darkgrid', u'seaborn-notebook', u'classic', u'seaborn-ticks', u'grayscale', u'bmh', u'seaborn-talk', u'dark_background', u'ggplot', u'fivethirtyeight', u'_classic_test', u'seaborn-colorblind', u'seaborn-deep', u'seaborn-whitegrid', u'seaborn-bright', u'seaborn-poster', u'seaborn-muted', u'seaborn-paper', u'seaborn-white', u'seaborn-pastel', u'seaborn-dark', u'seaborn', u'seaborn-dark-palette']\n"
     ]
    }
   ],
   "source": [
    "%matplotlib inline\n",
    "from matplotlib import pyplot as plt\n",
    "import numpy as np\n",
    "import pylab\n",
    "import pandas as pd\n",
    "import json\n",
    "print(plt.style.available)"
   ]
  },
  {
   "cell_type": "code",
   "execution_count": 106,
   "metadata": {
    "collapsed": false
   },
   "outputs": [],
   "source": [
    "plt.style.use('seaborn-paper')"
   ]
  },
  {
   "cell_type": "code",
   "execution_count": 112,
   "metadata": {
    "collapsed": false
   },
   "outputs": [
    {
     "name": "stdout",
     "output_type": "stream",
     "text": [
      "{'basilisk + gaff': array([-15.055, -17.022, -34.672, -35.065, -57.761, -60.945, -62.54 ,\n",
      "       -63.711, -63.711]), 'test2': array([ -4.28803812,  -4.8482886 ,  -9.8754472 ,  -9.98738337,\n",
      "       -16.45176816, -17.35865048, -17.81294612, -18.14647602, -18.14647602])}\n"
     ]
    }
   ],
   "source": [
    "list_of_files =  [('data/fitnesses_vs_iterations_AA10_amber_2_noChargeMethod.dat', 'basilisk + gaff'),\n",
    "                  ('data/fitnesses_vs_iterations_AA10_amber_2_noChargeMethod.dat', 'test2')]\n",
    "\n",
    "#Read JSON data into the datastore variable\n",
    "for filename, label in list_of_files:\n",
    "    with open(filename, 'r') as f:\n",
    "        datastore[label] = np.array(json.load(f))\n",
    "\n",
    "datastore['test2'] = datastore['test2']*np.random.random((1))\n",
    "print(datastore)"
   ]
  },
  {
   "cell_type": "code",
   "execution_count": 113,
   "metadata": {
    "collapsed": false
   },
   "outputs": [
    {
     "data": {
      "text/plain": [
       "<matplotlib.text.Text at 0x7f8a233e3350>"
      ]
     },
     "execution_count": 113,
     "metadata": {},
     "output_type": "execute_result"
    },
    {
     "data": {
      "image/png": "[encoded data removed]",
      "text/plain": [
       "<matplotlib.figure.Figure at 0x7f8a233ad690>"
      ]
     },
     "metadata": {},
     "output_type": "display_data"
    }
   ],
   "source": [
    "for label in datastore:\n",
    "    pylab.plot(np.arange(9), datastore[label], label=label)\n",
    "\n",
    "pylab.legend()\n",
    "pylab.title(\"Energy convergence\")\n",
    "pylab.xlabel(\"Iteration number\")\n",
    "pylab.ylabel(\"Energy [kcal/mol]\")"
   ]
  },
  {
   "cell_type": "code",
   "execution_count": null,
   "metadata": {
    "collapsed": true
   },
   "outputs": [],
   "source": []
  }
 ],
 "metadata": {
  "kernelspec": {
   "display_name": "Python 2",
   "language": "python",
   "name": "python2"
  },
  "language_info": {
   "codemirror_mode": {
    "name": "ipython",
    "version": 2
   },
   "file_extension": ".py",
   "mimetype": "text/x-python",
   "name": "python",
   "nbconvert_exporter": "python",
   "pygments_lexer": "ipython2",
   "version": "2.7.13"
  }
 },
 "nbformat": 4,
 "nbformat_minor": 2
}
